{
  "cells": [
    {
      "cell_type": "markdown",
      "metadata": {
        "id": "BHZ3PAV9-B31"
      },
      "source": [
        "# Exercícios"
      ]
    },
    {
      "cell_type": "markdown",
      "metadata": {
        "id": "vvOlcsR5-B34"
      },
      "source": [
        "1. Escreva um algoritmo que imprima na tela: Olá Mundo!"
      ]
    },
    {
      "cell_type": "code",
      "execution_count": null,
      "metadata": {
        "colab": {
          "base_uri": "https://localhost:8080/"
        },
        "id": "ymnPvYO9-B35",
        "outputId": "82f5f6a6-47b2-4a48-b15a-c092cbbcf2bc"
      },
      "outputs": [
        {
          "output_type": "stream",
          "name": "stdout",
          "text": [
            "olá mundo\n"
          ]
        }
      ],
      "source": [
        "print (\"olá mundo\")"
      ]
    },
    {
      "cell_type": "markdown",
      "metadata": {
        "id": "vbxQ55if-B36"
      },
      "source": [
        "2. Escreva um programa que imprima seu nome na tela."
      ]
    },
    {
      "cell_type": "code",
      "execution_count": 1,
      "metadata": {
        "colab": {
          "base_uri": "https://localhost:8080/"
        },
        "id": "cN9mssOD-B36",
        "outputId": "3c464d12-24af-4fa9-ce53-8b9d9cb77059"
      },
      "outputs": [
        {
          "output_type": "stream",
          "name": "stdout",
          "text": [
            "Lucas\n"
          ]
        }
      ],
      "source": [
        "print (\"Lucas\")"
      ]
    },
    {
      "cell_type": "markdown",
      "metadata": {
        "id": "rLe2s9P8-B36"
      },
      "source": [
        "3. O que o código a seguir imprime?\n",
        "\n",
        "```python\n",
        "print(\"*\\n**\\n***\\n****\\n*****\")\n",
        "```"
      ]
    },
    {
      "cell_type": "code",
      "execution_count": null,
      "metadata": {
        "colab": {
          "base_uri": "https://localhost:8080/"
        },
        "id": "n1FVmf8k-B37",
        "outputId": "9df28a21-69e1-4087-ae7f-1d4a6fe7a7c8"
      },
      "outputs": [
        {
          "output_type": "stream",
          "name": "stdout",
          "text": [
            "*\n",
            "**\n",
            "***\n",
            "****\n",
            "*****\n"
          ]
        }
      ],
      "source": [
        "print(\"*\\n**\\n***\\n****\\n*****\")"
      ]
    },
    {
      "cell_type": "markdown",
      "metadata": {
        "id": "k6P0viy7-B38"
      },
      "source": [
        "4. O que aparece na janela do console, quando cada uma das instruções abaixo são executadas, para: x = 2 e y = 3? Execute cada uma das linhas abaixos e, se necessário, faça os devidos ajustes no código.\n",
        "    1. *print(“x = ” + x);*\n",
        "    2. *print(“O valor de x + x é ” + (x + x));*\n",
        "    3. *print(“x = ”);*\n",
        "    4. *print((x + y) + “ = “ + (y + x));*\n"
      ]
    },
    {
      "cell_type": "code",
      "execution_count": null,
      "metadata": {
        "id": "PvHCaVky-B38"
      },
      "outputs": [],
      "source": [
        "x = 2\n",
        "y = 3"
      ]
    },
    {
      "cell_type": "code",
      "source": [
        "print (\"x=\" , x)"
      ],
      "metadata": {
        "colab": {
          "base_uri": "https://localhost:8080/"
        },
        "id": "BA8xXPdt-ra6",
        "outputId": "e2922042-c33a-4614-ce34-9e7d57c72cd4"
      },
      "execution_count": null,
      "outputs": [
        {
          "output_type": "stream",
          "name": "stdout",
          "text": [
            "x= 2\n"
          ]
        }
      ]
    },
    {
      "cell_type": "code",
      "source": [
        "print (\"O valor de x + x é\" , x+x)"
      ],
      "metadata": {
        "colab": {
          "base_uri": "https://localhost:8080/"
        },
        "id": "hvH6nJmz-uBB",
        "outputId": "50f64575-9e34-45e4-e45f-3f71b8a84768"
      },
      "execution_count": null,
      "outputs": [
        {
          "output_type": "stream",
          "name": "stdout",
          "text": [
            "O valor de x + x é 4\n"
          ]
        }
      ]
    },
    {
      "cell_type": "code",
      "source": [
        "print (\"x=\")"
      ],
      "metadata": {
        "id": "6y23ouvw_1sp"
      },
      "execution_count": null,
      "outputs": []
    },
    {
      "cell_type": "code",
      "source": [
        "print (x+y , \"=\" , y+x)"
      ],
      "metadata": {
        "colab": {
          "base_uri": "https://localhost:8080/"
        },
        "id": "EHeEE5tdBGWu",
        "outputId": "7252fe08-3d09-4a26-af17-82de69984e1c"
      },
      "execution_count": null,
      "outputs": [
        {
          "output_type": "stream",
          "name": "stdout",
          "text": [
            "5 = 5\n"
          ]
        }
      ]
    },
    {
      "cell_type": "markdown",
      "metadata": {
        "id": "thJ57EcM-B39"
      },
      "source": [
        "5. Escreva um algoritmo que imprima na tela a seguinte mensagem:\n",
        "\n",
        "> A programação é aprendida escrevendo programas - \n",
        "> Brian Kernighan\n"
      ]
    },
    {
      "cell_type": "code",
      "execution_count": null,
      "metadata": {
        "colab": {
          "base_uri": "https://localhost:8080/"
        },
        "id": "p0aFP30e-B39",
        "outputId": "d3f6cb89-20e2-4afb-f21e-2f52e3178e8e"
      },
      "outputs": [
        {
          "output_type": "stream",
          "name": "stdout",
          "text": [
            "A programação é aprendida escrevendo programas - Brian Kernighan\n"
          ]
        }
      ],
      "source": [
        "print (\"A programação é aprendida escrevendo programas - Brian Kernighan\")"
      ]
    },
    {
      "cell_type": "markdown",
      "metadata": {
        "id": "TPey2HsC-B39"
      },
      "source": [
        "6. Crie um algoritmo que imprima o produto entre os números 25 e 27"
      ]
    },
    {
      "cell_type": "code",
      "execution_count": null,
      "metadata": {
        "colab": {
          "base_uri": "https://localhost:8080/"
        },
        "id": "G-y1wDO4-B3-",
        "outputId": "6f0f6651-4c55-4221-d429-73031abebb9d"
      },
      "outputs": [
        {
          "output_type": "stream",
          "name": "stdout",
          "text": [
            "675\n"
          ]
        }
      ],
      "source": [
        "print (25*27)"
      ]
    },
    {
      "cell_type": "markdown",
      "metadata": {
        "id": "teLugifp-B3-"
      },
      "source": [
        "7. Crie um algoritmo que imprima a média aritmética entre os números 4, 12, 15."
      ]
    },
    {
      "cell_type": "code",
      "execution_count": null,
      "metadata": {
        "colab": {
          "base_uri": "https://localhost:8080/"
        },
        "id": "_MphuXXV-B3-",
        "outputId": "0301053b-1f29-4b71-943d-e501bb90626f"
      },
      "outputs": [
        {
          "output_type": "stream",
          "name": "stdout",
          "text": [
            "240.0\n"
          ]
        }
      ],
      "source": [
        "print ((4*12*15)/3)"
      ]
    },
    {
      "cell_type": "markdown",
      "metadata": {
        "id": "8Eo7mIya-B3_"
      },
      "source": [
        "8. Faça um programa que leia um número inteiro e mostre-o na tela da seguinte forma: \n",
        "\n",
        "> O número inteiro digitado foi 4."
      ]
    },
    {
      "cell_type": "code",
      "execution_count": null,
      "metadata": {
        "colab": {
          "base_uri": "https://localhost:8080/"
        },
        "id": "iChlYmJ4-B3_",
        "outputId": "9a806ccf-e429-42e0-e7b4-cec59802115b"
      },
      "outputs": [
        {
          "output_type": "stream",
          "name": "stdout",
          "text": [
            "digite um numero\n",
            "4\n",
            "o numero inteiro digitado foi 4\n"
          ]
        }
      ],
      "source": [
        "print (\"digite um numero\")\n",
        "x = input ()\n",
        "print (\"o numero inteiro digitado foi\" , x)"
      ]
    },
    {
      "cell_type": "markdown",
      "metadata": {
        "id": "vgp_rd7Z-B3_"
      },
      "source": [
        "9. Faça um programa que leia e imprima dois números inteiros na tela."
      ]
    },
    {
      "cell_type": "code",
      "execution_count": null,
      "metadata": {
        "colab": {
          "base_uri": "https://localhost:8080/"
        },
        "id": "RY48x5IY-B3_",
        "outputId": "90bf6149-5031-4aac-a1ee-1be89d1645f1"
      },
      "outputs": [
        {
          "output_type": "stream",
          "name": "stdout",
          "text": [
            "digite dois numeros OTARIO\n",
            "2\n",
            "4\n",
            "2 4\n"
          ]
        }
      ],
      "source": [
        "print (\"digite dois numeros\")\n",
        "x = int (input())\n",
        "y = int (input())\n",
        "print (x , y)"
      ]
    },
    {
      "cell_type": "markdown",
      "metadata": {
        "id": "BRAKNn1T-B4A"
      },
      "source": [
        "10. Faça um programa que leia um número inteiro e imprima seu número sucessor e antecessor."
      ]
    },
    {
      "cell_type": "code",
      "execution_count": null,
      "metadata": {
        "colab": {
          "base_uri": "https://localhost:8080/"
        },
        "id": "uAB4GMK1-B4A",
        "outputId": "97ed6d34-ce2f-4dbb-e1fb-e4cb5e90c509"
      },
      "outputs": [
        {
          "output_type": "stream",
          "name": "stdout",
          "text": [
            "escolha um numero\n",
            "3\n",
            "2 4\n"
          ]
        }
      ],
      "source": [
        "print (\"escolha um numero\")\n",
        "x = int(input())\n",
        "print (x-1 , x+1)"
      ]
    },
    {
      "cell_type": "markdown",
      "metadata": {
        "id": "u8XO20hv-B4A"
      },
      "source": [
        "11. Faça um programa que leia o nome, endereço e telefone de um usuário e imprima na tela."
      ]
    },
    {
      "cell_type": "code",
      "execution_count": null,
      "metadata": {
        "colab": {
          "base_uri": "https://localhost:8080/"
        },
        "id": "LAwx4In2-B4A",
        "outputId": "9010c166-8d4c-4e4c-eb7a-b3061a49edfe"
      },
      "outputs": [
        {
          "output_type": "stream",
          "name": "stdout",
          "text": [
            "preencha seus dados\n",
            "nome: rael\n",
            "endereço: xxx\n",
            "telefone: 123\n",
            "nome:  rael endereço:  xxx telefone:  123\n"
          ]
        }
      ],
      "source": [
        "print (\"preencha seus dados\")\n",
        "nome = input(\"nome: \")\n",
        "end = input (\"endereço: \")\n",
        "tel = input (\"telefone: \")\n",
        "print (\"nome: \", nome ,\n",
        "       \"endereço: \", end ,\n",
        "       \"telefone: \", tel)"
      ]
    },
    {
      "cell_type": "markdown",
      "metadata": {
        "id": "kOyUoDU1-B4A"
      },
      "source": [
        "12. Faça um programa que leia e multiplique dois números inteiros."
      ]
    },
    {
      "cell_type": "code",
      "execution_count": null,
      "metadata": {
        "id": "0wwGc1Bw-B4B",
        "colab": {
          "base_uri": "https://localhost:8080/"
        },
        "outputId": "10630a1e-b05e-4b3e-f4ac-71a2f1571f9c"
      },
      "outputs": [
        {
          "output_type": "stream",
          "name": "stdout",
          "text": [
            "Escolha dois numeros: \n",
            "2\n",
            "3\n",
            "o produto de 2 e 3 é: 6\n"
          ]
        }
      ],
      "source": [
        "print (\"Escolha dois numeros: \")\n",
        "x= int(input())\n",
        "y= int(input())\n",
        "print (\"o produto de\" , x , \"e\" , y , \"é:\" , x*y)"
      ]
    },
    {
      "cell_type": "markdown",
      "metadata": {
        "id": "Hk_eXAQ_-B4B"
      },
      "source": [
        "13. Faça um programa que leia um número real e imprima a terça parte deste número."
      ]
    },
    {
      "cell_type": "code",
      "execution_count": null,
      "metadata": {
        "id": "4lR_oYBu-B4B",
        "colab": {
          "base_uri": "https://localhost:8080/"
        },
        "outputId": "b9b67fa6-1c62-4afe-8ba2-3116b1697c42"
      },
      "outputs": [
        {
          "output_type": "stream",
          "name": "stdout",
          "text": [
            "Escolha um numero: \n",
            "3\n",
            "a terça parte de seu numero é 1.0\n"
          ]
        }
      ],
      "source": [
        "print (\"Escolha um numero: \")\n",
        "x= int(input())\n",
        "print(\"a terça parte de seu numero é\", x/3)"
      ]
    },
    {
      "cell_type": "markdown",
      "metadata": {
        "id": "q7ipcH-U-B4B"
      },
      "source": [
        "14. Faça um programa que leia dois números inteiros e imprima o dividendo, divisor, quociente e resto da divisão"
      ]
    },
    {
      "cell_type": "code",
      "execution_count": null,
      "metadata": {
        "id": "n9iM2QLq-B4B"
      },
      "outputs": [],
      "source": [
        ""
      ]
    },
    {
      "cell_type": "markdown",
      "metadata": {
        "id": "6f95tluu-B4B"
      },
      "source": [
        "15. Escreva um programa que solicite do usuário dois números, e imprima o resultado da soma, subtração, multiplicação e divisão."
      ]
    },
    {
      "cell_type": "code",
      "execution_count": null,
      "metadata": {
        "id": "N2aPThxI-B4B",
        "colab": {
          "base_uri": "https://localhost:8080/"
        },
        "outputId": "a4352687-c4da-474a-ad81-0a531ea2569a"
      },
      "outputs": [
        {
          "output_type": "stream",
          "name": "stdout",
          "text": [
            "Escolha dois numeros: \n",
            "2\n",
            "4\n",
            "produto: 8\n",
            "soma: 6\n",
            "subtração: -2\n",
            "divisão: 0.5\n"
          ]
        }
      ],
      "source": [
        "print (\"Escolha dois numeros: \")\n",
        "x= int(input())\n",
        "y= int(input())\n",
        "print(\"produto:\", x*y)\n",
        "print(\"soma:\", x+y)\n",
        "print(\"subtração:\", x-y)\n",
        "print(\"divisão:\", x/y)"
      ]
    },
    {
      "cell_type": "markdown",
      "metadata": {
        "id": "Gl5US1HX-B4B"
      },
      "source": [
        "16. Faça um programa que leia quatro números inteiros, calcule e mostre a soma desses números."
      ]
    },
    {
      "cell_type": "code",
      "execution_count": null,
      "metadata": {
        "id": "SDW4nmo5-B4C",
        "colab": {
          "base_uri": "https://localhost:8080/"
        },
        "outputId": "c4293c54-c2fd-4b9a-9bde-a15b905a0db6"
      },
      "outputs": [
        {
          "output_type": "stream",
          "name": "stdout",
          "text": [
            "Escolha quatro numeros: \n",
            "1\n",
            "2\n",
            "3\n",
            "4\n",
            "soma: 10\n"
          ]
        }
      ],
      "source": [
        "print (\"Escolha quatro numeros: \")\n",
        "x= int(input())\n",
        "y= int(input())\n",
        "z= int(input())\n",
        "w= int(input())\n",
        "\n",
        "print(\"soma:\", x+y+z+w)"
      ]
    },
    {
      "cell_type": "markdown",
      "metadata": {
        "id": "M78u-ysM-B4C"
      },
      "source": [
        "17. Faça um programa que receba três notas, calcule e mostre a média aritmética."
      ]
    },
    {
      "cell_type": "code",
      "execution_count": null,
      "metadata": {
        "id": "5zu2LKGy-B4C",
        "colab": {
          "base_uri": "https://localhost:8080/"
        },
        "outputId": "203621cf-1c43-4073-ef3d-eef55c69f915"
      },
      "outputs": [
        {
          "output_type": "stream",
          "name": "stdout",
          "text": [
            "Digite as notas: \n",
            "6\n",
            "7\n",
            "4\n",
            "sua média é: 5.666666666666667\n"
          ]
        }
      ],
      "source": [
        "print (\"Digite as notas: \")\n",
        "x= int(input())\n",
        "y= int(input())\n",
        "z= int(input())\n",
        "print(\"sua média é:\", (x+y+z)/3)"
      ]
    },
    {
      "cell_type": "markdown",
      "metadata": {
        "id": "Do55OZhT-B4C"
      },
      "source": [
        "18. Faça um programa que receba três notas e seus respectivos pesos, calcule e mostre a média ponderada."
      ]
    },
    {
      "cell_type": "code",
      "execution_count": null,
      "metadata": {
        "id": "F4Z8WJeU-B4C",
        "colab": {
          "base_uri": "https://localhost:8080/"
        },
        "outputId": "911097af-591d-470a-e426-be2bba6b31ae"
      },
      "outputs": [
        {
          "output_type": "stream",
          "name": "stdout",
          "text": [
            "Digite a nota 1: \n",
            "6\n",
            "Digite seu peso: \n",
            "2\n",
            "Digite a nota 2: \n",
            "8\n",
            "Digite seu peso: \n",
            "1\n",
            "Digite a nota 3: \n",
            "5\n",
            "Digite seu peso: \n",
            "3\n",
            "sua nota é 5.833333333333333\n"
          ]
        }
      ],
      "source": [
        "print (\"Digite a nota 1: \")\n",
        "x= int(input())\n",
        "print (\"Digite seu peso: \")\n",
        "xp= int(input())\n",
        "print (\"Digite a nota 2: \")\n",
        "y= int(input())\n",
        "print (\"Digite seu peso: \")\n",
        "yp= int(input())\n",
        "print (\"Digite a nota 3: \")\n",
        "z= int(input())\n",
        "print (\"Digite seu peso: \")\n",
        "zp= int(input())\n",
        "\n",
        "media=(x*xp + y*yp + z*zp)/(xp+yp+zp)\n",
        "\n",
        "print(\"sua nota é\", media)"
      ]
    },
    {
      "cell_type": "markdown",
      "metadata": {
        "id": "0vmXhFKi-B4C"
      },
      "source": [
        "19. Faça um programa que receba o salário de um funcionário, calcule e mostre o novo salário, sabendo-se que este sofreu um aumento de 25%."
      ]
    },
    {
      "cell_type": "code",
      "execution_count": null,
      "metadata": {
        "id": "9j121z24-B4D",
        "colab": {
          "base_uri": "https://localhost:8080/"
        },
        "outputId": "086f45e8-dde9-4a05-ccc1-2805473409da"
      },
      "outputs": [
        {
          "output_type": "stream",
          "name": "stdout",
          "text": [
            "Digite seu salario: \n",
            "100\n",
            "seu novo salario é  125.0\n"
          ]
        }
      ],
      "source": [
        "print (\"Digite seu salario: \")\n",
        "x= int(input())\n",
        "print (\"seu novo salario é \", x*1.25)"
      ]
    },
    {
      "cell_type": "markdown",
      "metadata": {
        "id": "qRtAU_XA-B4D"
      },
      "source": [
        "20. Faça um programa que receba o salário de um funcionário e o percentual de aumento, calcule e mostre o valor do aumento e o novo salário. "
      ]
    },
    {
      "cell_type": "code",
      "execution_count": null,
      "metadata": {
        "id": "DvxI5rYt-B4D",
        "colab": {
          "base_uri": "https://localhost:8080/"
        },
        "outputId": "86bfc4d8-3d45-467b-c860-030aa75d6a8e"
      },
      "outputs": [
        {
          "output_type": "stream",
          "name": "stdout",
          "text": [
            "Digite seu salario: \n",
            "1100\n",
            "Digite seu aumento percentual: \n",
            "10\n",
            "seu novo salario é  1210.0\n"
          ]
        }
      ],
      "source": [
        "print (\"Digite seu salario: \")\n",
        "x= int(input())\n",
        "print (\"Digite seu aumento percentual: \")\n",
        "y= int(input())\n",
        "z= (x*(y/100))+x\n",
        "print (\"seu novo salario é \", z)"
      ]
    },
    {
      "cell_type": "markdown",
      "metadata": {
        "id": "I8B5dqiX-B4D"
      },
      "source": [
        "21.  Faça um programa que calcule e mostre a área de um triângulo. Sabe-se que: \n",
        "> Área = (base * altura) / 2."
      ]
    },
    {
      "cell_type": "code",
      "execution_count": null,
      "metadata": {
        "id": "V63_C6Pl-B4D",
        "colab": {
          "base_uri": "https://localhost:8080/"
        },
        "outputId": "8c105e19-8be5-48e7-f4d6-7835fd65a3f5"
      },
      "outputs": [
        {
          "output_type": "stream",
          "name": "stdout",
          "text": [
            "Defina a base: \n",
            "5\n",
            "Defina a altura: \n",
            "4\n",
            "sua área é: 10.0\n"
          ]
        }
      ],
      "source": [
        "print (\"Defina a base: \")\n",
        "x= int(input())\n",
        "print (\"Defina a altura: \")\n",
        "y= int(input())\n",
        "z= (x*y)/2\n",
        "print(\"sua área é:\" , z)"
      ]
    },
    {
      "cell_type": "markdown",
      "metadata": {
        "id": "Ejhix1FD-B4D"
      },
      "source": [
        "22. Escreva um programa que receba como entrada o raio de um círculo e imprima o diâmetro, a circunferência e a área. Para isso, utilize as fórmulas: diâmetro = 2r; circunferência = 2πr, área = πr²."
      ]
    },
    {
      "cell_type": "code",
      "execution_count": null,
      "metadata": {
        "id": "Efalt7R1-B4D",
        "colab": {
          "base_uri": "https://localhost:8080/"
        },
        "outputId": "6f22bb59-f6d8-41e6-ab30-bf3919c8665c"
      },
      "outputs": [
        {
          "output_type": "stream",
          "name": "stdout",
          "text": [
            "digite o raio:\n",
            "2\n",
            "o diametro é 4\n",
            "a circunferencia é 12.566370614359172\n",
            "a area é 12.566370614359172\n"
          ]
        }
      ],
      "source": [
        "import math\n",
        "\n",
        "print(\"digite o raio:\")\n",
        "r= int(input())\n",
        "d=r*2\n",
        "c=2*math.pi*r\n",
        "a=math.pi*(r**2)\n",
        "print(\"o diametro é\", d)\n",
        "print(\"a circunferencia é\", c)\n",
        "print(\"a area é\", a)"
      ]
    },
    {
      "cell_type": "markdown",
      "metadata": {
        "id": "sSH4uscA-B4E"
      },
      "source": [
        "23. Faça um programa que receba um número positivo e maior que zero, calcule e mostre:\n",
        "    1. o número digitado ao quadrado;\n",
        "    2. o número digitado ao cubo;\n",
        "    3. a raiz quadrada do número digitado."
      ]
    },
    {
      "cell_type": "code",
      "execution_count": null,
      "metadata": {
        "id": "ZfQ2PHK2-B4E",
        "colab": {
          "base_uri": "https://localhost:8080/"
        },
        "outputId": "b16cb0b0-375c-4b17-f5df-500d5298f1a5"
      },
      "outputs": [
        {
          "output_type": "stream",
          "name": "stdout",
          "text": [
            "digite o numero\n",
            "9\n",
            "o valor ao quadrado é 81\n",
            "o valor ao cubo é 729\n",
            "a raiz do valor é 3.0\n"
          ]
        }
      ],
      "source": [
        "import math\n",
        "\n",
        "print(\"digite o numero\")\n",
        "x= int(input())\n",
        "y=x**2\n",
        "z=x**3\n",
        "w=math.sqrt(x)\n",
        "print (\"o valor ao quadrado é\", y)\n",
        "print (\"o valor ao cubo é\", z)\n",
        "print (\"a raiz do valor é\", w)"
      ]
    },
    {
      "cell_type": "markdown",
      "metadata": {
        "id": "pTEcYwIX-B4E"
      },
      "source": [
        "24. Faça um programa que receba dois números maiores que zero, calcule e mostre um elevado ao outro."
      ]
    },
    {
      "cell_type": "code",
      "execution_count": null,
      "metadata": {
        "id": "JTXN0sca-B4E",
        "colab": {
          "base_uri": "https://localhost:8080/"
        },
        "outputId": "90b17c74-c082-43d8-be0f-98cfb544c39e"
      },
      "outputs": [
        {
          "output_type": "stream",
          "name": "stdout",
          "text": [
            "digite o valor e sua potencia\n",
            "2\n",
            "3\n",
            "8 9\n"
          ]
        }
      ],
      "source": [
        "print(\"digite o valor e sua potencia\")\n",
        "x=int(input())\n",
        "y=int(input())\n",
        "print(x**y , y**x)"
      ]
    },
    {
      "cell_type": "markdown",
      "metadata": {
        "id": "7v_aL86d-B4E"
      },
      "source": [
        "25. Sabe-se que: pé = 12 polegadas; 1 jarda = 3 pés e 1 milha = 1,760 jarda. Faça um programa que receba uma medida em pés, faça as conversões a seguir e mostre os resultados.\n",
        "    1. polegadas;\n",
        "    2. jardas;\n",
        "    3. milhas."
      ]
    },
    {
      "cell_type": "code",
      "execution_count": null,
      "metadata": {
        "id": "VLYKM9vZ-B4E",
        "colab": {
          "base_uri": "https://localhost:8080/"
        },
        "outputId": "9afc55ef-2847-4de2-b1b4-32e6231d5799"
      },
      "outputs": [
        {
          "output_type": "stream",
          "name": "stdout",
          "text": [
            "informe a medida em pés\n",
            "5\n",
            "60 1.6666666666666667 0.946969696969697\n"
          ]
        }
      ],
      "source": [
        "print (\"informe a medida em pés\")\n",
        "p=int(input())\n",
        "pol=12*p\n",
        "j=p/3\n",
        "m=j/1.76\n",
        "print(pol, j , m)"
      ]
    },
    {
      "cell_type": "markdown",
      "metadata": {
        "id": "QhQA-wtf-B4F"
      },
      "source": [
        "26. Escreva um programa que receba como entrada um número de 5 dígitos, separe o número em dígitos individuais e os imprima separados por 3 espaços cada um. Por exemplo, se o usuário digitar 42339, o programa deverá imprimir: 4    2    3    3.   Dica: utilize as operações de divisão e módulo para extrair cada dígito do número."
      ]
    },
    {
      "cell_type": "code",
      "execution_count": null,
      "metadata": {
        "id": "Gwk3T9kW-B4F"
      },
      "outputs": [],
      "source": [
        ""
      ]
    },
    {
      "cell_type": "markdown",
      "metadata": {
        "id": "zikxCFiN-B4F"
      },
      "source": [
        "27.  A nota final de um estudante é calculada a partir de três notas atribuídas, respectivamente, a um trabalho\n",
        "de laboratório, a uma avaliação semestral e a um exame final. A média das três notas mencionadas\n",
        "obedece aos pesos a seguir:\n",
        "\n",
        "| Nota                    | Peso |\n",
        "|-------------------------|------|\n",
        "| Trabalho de Laboratório | 2    |\n",
        "| Avaliação Semestral     | 3    |\n",
        "| Exame Final             | 5    |\n",
        "\n",
        "\n",
        "Faça um programa que receba as três notas, calcule e mostre a média ponderada e o conceito que segue\n",
        "a tabela:\n",
        "\n",
        "| Média Ponderada        | Conceito |\n",
        "|------------------------|----------|\n",
        "| 8,00 <= Média <= 10,00 | A        |\n",
        "| 7,00 <= Média < 8,00   | B        |\n",
        "| 6,00 <= Média < 7,00   | C        |\n",
        "| 5,00 <= Média < 6,00   | D        |\n",
        "| 0,00 <= Média < 5,00   | E        |"
      ]
    },
    {
      "cell_type": "code",
      "execution_count": null,
      "metadata": {
        "id": "_Yqs4DCS-B4F",
        "colab": {
          "base_uri": "https://localhost:8080/"
        },
        "outputId": "2048aab0-0f45-45ce-95d0-298367ea0019"
      },
      "outputs": [
        {
          "output_type": "stream",
          "name": "stdout",
          "text": [
            "digite a nota de trabalho\n",
            "2\n",
            "digite a nota da avaliação\n",
            "9\n",
            "digite a nota do exame final\n",
            "5\n",
            "sua média foi de  5.6 e conceito D\n"
          ]
        }
      ],
      "source": [
        "print(\"digite a nota de trabalho\")\n",
        "x=int(input())\n",
        "tl=x*2\n",
        "print(\"digite a nota da avaliação\")\n",
        "y=int(input())\n",
        "av=y*3\n",
        "print(\"digite a nota do exame final\")\n",
        "z=int(input())\n",
        "ex=z*5\n",
        "\n",
        "media=(tl+av+ex)/10\n",
        "\n",
        "if  media >= 8:\n",
        "  print(\"sua média foi de \", media, \"e conceito A\")\n",
        "\n",
        "elif media < 8 and media >= 7:\n",
        "  print(\"sua média foi de \", media, \"e conceito B\")\n",
        "\n",
        "elif media < 7 and media >= 6:\n",
        "  print(\"sua média foi de \", media, \"e conceito C\")\n",
        "\n",
        "elif media < 6 and media >= 5:\n",
        "  print(\"sua média foi de \", media, \"e conceito D\")\n",
        "\n",
        "else:\n",
        "  print(\"sua média foi de \", media, \"e conceito E\")"
      ]
    },
    {
      "cell_type": "markdown",
      "metadata": {
        "id": "ubqyyeG3-B4F"
      },
      "source": [
        "28. Faça um programa que receba três notas de um aluno, calcule e mostre a média aritmética e a mensagem constante na tabela a seguir. \n",
        "\n",
        "| Média                  | Situação       |\n",
        "|------------------------|----------------|\n",
        "| 7,00 <= Média <= 10,00 | Aprovado       |\n",
        "| 3,00 <= Média < 7,00   | Exame Especial |\n",
        "| 0,00 <= Média < 3,00   | Reprovado      |"
      ]
    },
    {
      "cell_type": "code",
      "execution_count": null,
      "metadata": {
        "id": "psQ3DafM-B4F",
        "colab": {
          "base_uri": "https://localhost:8080/"
        },
        "outputId": "76c77415-7841-44d5-f597-4e798e9ac1ba"
      },
      "outputs": [
        {
          "output_type": "stream",
          "name": "stdout",
          "text": [
            "Digite as notas: \n",
            "3\n",
            "8\n",
            "5\n",
            "sua média foi de  5.333333333333333\n",
            "exame especial\n"
          ]
        }
      ],
      "source": [
        "print (\"Digite as notas: \")\n",
        "x= int(input())\n",
        "y= int(input())\n",
        "z= int(input())\n",
        "media =(x+y+z)/3\n",
        "print(\"sua média foi de \" , media)\n",
        "\n",
        "if  media >= 7:\n",
        "  print(\"APROVADO\")\n",
        "elif media < 7 and media >= 3:\n",
        "   print(\"exame especial\")\n",
        "else:\n",
        "  print(\"REPORVADO\")\n"
      ]
    },
    {
      "cell_type": "markdown",
      "metadata": {
        "id": "TuWMuOTF-B4F"
      },
      "source": [
        "29. Faça um programa para resolver equações do 2º grau.\n",
        "\n",
        "$$\n",
        "a^{2} + bx + c = 0\n",
        "$$\n",
        "\n",
        "\n",
        "Onde x é uma variável, sendo a, b e c constantes, com a ≠ 0 \n",
        "\n",
        "\n",
        "$$\n",
        "\\Delta = b^{2} - 4ac\n",
        "$$\n",
        "\n",
        "$$\n",
        "\\Delta < 0 \\rightarrow não \\: existe  \\: raiz  \\: real\n",
        "$$\n",
        "\n",
        "$$\n",
        "\\Delta = 0 \\rightarrow  existe  \\: raiz  \\: real\n",
        "$$\n",
        "\n",
        "$$\n",
        "x = \\frac{-b}{2a}\n",
        "$$\n",
        "\n",
        "\n",
        "\n",
        "$$\n",
        "\\Delta > 0 \\rightarrow existem \\: duas  \\: raizes  \\: reais\n",
        "$$\n",
        "\n",
        "\n",
        "$$\n",
        "x_1 = \\frac{-b \\: + \\: \\sqrt{\\Delta } }{2a}\n",
        "$$\n",
        "\n",
        "$$\n",
        "x_2 = \\frac{-b \\: - \\: \\sqrt{\\Delta } }{2a}\n",
        "$$"
      ]
    },
    {
      "cell_type": "code",
      "execution_count": null,
      "metadata": {
        "id": "znqh_EiW-B4G",
        "colab": {
          "base_uri": "https://localhost:8080/"
        },
        "outputId": "2beddaa3-84c5-420d-a534-91b04161d7e8"
      },
      "outputs": [
        {
          "output_type": "stream",
          "name": "stdout",
          "text": [
            "defina os valores de A, B e C\n",
            "2\n",
            "8\n",
            "5\n",
            "os valores da raiz são 16.0 -32.0\n"
          ]
        }
      ],
      "source": [
        "print(\"defina os valores de A, B e C\")\n",
        "a=int(input())\n",
        "b=int(input())\n",
        "c=int(input())\n",
        "delta = b**2-4*a*c\n",
        "\n",
        "if delta == 0 :\n",
        "  x= (b*-1)/2*a\n",
        "  print(\"o valor de x é:\", x)\n",
        "\n",
        "elif delta < 0 :\n",
        "  print(\"não existe raiz da equação\")\n",
        "\n",
        "else:\n",
        "  xi = ((b*-1)+ delta)/2*a\n",
        "  xii = ((b*-1)- delta)/2*a\n",
        "  print (\"os valores da raiz são\" , xi , xii)"
      ]
    },
    {
      "cell_type": "markdown",
      "metadata": {
        "id": "snT-DS-v-B4G"
      },
      "source": [
        "30. Faça um programa que receba vários números, calcule e mostre:\n",
        "\n",
        "    - A soma dos números digitados;\n",
        "    - A quantidade de números digitados;\n",
        "    - A média dos números digitados;\n",
        "    - O maior número digitado;\n",
        "    - O menor número digitado;\n",
        "    - A média dos números pares;\n",
        "    - A porcentagem dos números ímpares entre todos os números digitados.\n",
        "\n",
        "Finalize a entrada de dados com a digitação do número 0."
      ]
    },
    {
      "cell_type": "code",
      "execution_count": null,
      "metadata": {
        "id": "tgfM2XZN-B4G",
        "colab": {
          "base_uri": "https://localhost:8080/"
        },
        "outputId": "198c8ef2-3b7c-4089-c51b-9c6c904a74ff"
      },
      "outputs": [
        {
          "output_type": "stream",
          "name": "stdout",
          "text": [
            "Digite um valor: 1\n",
            "Digite um valor2\n",
            "Digite um valor3\n",
            "Digite um valor0\n",
            "Quantidade de números digitados: 3\n",
            "Média dos números:  2.0\n",
            "O maior número digitado foi:  3\n",
            "O menor número digitado foi:  1\n",
            "Média dos números pares:  2.0\n",
            "Porcentagem de números ímpares:  66.66666666666666\n"
          ]
        }
      ],
      "source": [
        "qtdNum = 0\n",
        "\n",
        "somaNum = 0\n",
        "\n",
        "maior = 0\n",
        "\n",
        "menor = 0\n",
        "\n",
        "somaPar = 0\n",
        "\n",
        "qtdPar = 0\n",
        "\n",
        "qtdImpar = 0\n",
        "\n",
        "num = int(input('Digite um valor: '))\n",
        "\n",
        "maior = num\n",
        "\n",
        "menor = num\n",
        "\n",
        "while(num != 0):\n",
        "\n",
        "   qtdNum += 1\n",
        "\n",
        "   somaNum += num\n",
        "\n",
        "   \n",
        "\n",
        "   if num > maior:\n",
        "\n",
        "       maior = num\n",
        "\n",
        "   elif num < menor:\n",
        "\n",
        "       menor = num\n",
        "\n",
        "   if num % 2 == 0:\n",
        "\n",
        "       qtdPar += 1\n",
        "\n",
        "       somaPar += num\n",
        "\n",
        "   else:\n",
        "\n",
        "       qtdImpar += 1\n",
        "\n",
        "   num = int(input('Digite um valor'))\n",
        "\n",
        "print('Quantidade de números digitados:', qtdNum)\n",
        "\n",
        "print('Média dos números: ', somaNum / qtdNum)\n",
        "\n",
        "print('O maior número digitado foi: ', maior)\n",
        "\n",
        "print('O menor número digitado foi: ', menor)\n",
        "\n",
        "print('Média dos números pares: ', somaPar / qtdPar)\n",
        "\n",
        "print('Porcentagem de números ímpares: ', qtdImpar / qtdNum * 100)"
      ]
    },
    {
      "cell_type": "markdown",
      "metadata": {
        "id": "i5USLsKU-B4G"
      },
      "source": [
        "31. Foi realizada uma pesquisa sobre algumas características físicas dos habitantes de uma região. Foram coletados os seguintes dados de cada habitante: sexo, cor dos olhos (A — azuis; ou C — castanhos), cor dos cabelos (L — louros; P — pretos; ou C — castanhos) e idade. Implemente os seguintes métodos:\n",
        "\n",
        "    1. `leia_dados()`: leia esses dados, armazene e retorne os dados em uma lista;\n",
        "    2. `media_idades(dados)`: calcula e retorne a média de idade das pessoas com olhos castanhos e cabelos pretos;\n",
        "    3. `maior_idade(dados)`: determina e retorne a maior idade entre os habitantes;\n",
        "    4. `frequencia_individuos(dados)`: calcula e retorna a quantidade de indivíduos do sexo feminino com idade entre 18 e 35 anos (inclusive) e que tenham olhos azuis e cabelos louros."
      ]
    },
    {
      "cell_type": "code",
      "execution_count": null,
      "metadata": {
        "id": "6yhITpav-B4G"
      },
      "outputs": [],
      "source": [
        ""
      ]
    },
    {
      "cell_type": "markdown",
      "metadata": {
        "id": "ezGCaZMi-B4G"
      },
      "source": [
        "32. Faça o método `analisa_numeros(numeros)` que receba uma lista de números como parâmetro, calcule e mostre:\n",
        "\n",
        "    1. A Soma dos números;\n",
        "    2. A quantidade de números;\n",
        "    3. A média dos números;\n",
        "    4. O maior número;\n",
        "    5. O menor número;\n",
        "    6. A média dos números pares;\n",
        "    7. A porcentagem dos números ímpares entre todos os números da lista."
      ]
    },
    {
      "cell_type": "code",
      "execution_count": null,
      "metadata": {
        "id": "noV3EtPg-B4G"
      },
      "outputs": [],
      "source": [
        ""
      ]
    },
    {
      "cell_type": "markdown",
      "metadata": {
        "id": "6qiPXfx--B4G"
      },
      "source": [
        "33. Uma empresa quer transmitir dados pelo telefone, mas está preocupada com a interceptação telefônica. Todos os seus dados são transmitidos  como inteiros de quatro dígitos. Ela pediu para que você escreva um programa que criptografe seus dados, para que eles possam ser transmitidos com mais segurança. Implemente a função `criptogra(numero)` que receba como parâmetro um número inteiro de quatro dígitos e criptografe-o da seguinte forma: \n",
        "\n",
        "    * Substitua cada um dos dígitos do número usando a seguinte fórmula: `(digito +  7) módulo 10`; \n",
        "    * Após a substituição, troque o primeiro dígito pelo terceiro e troque o segundo dígito pelo quarto;\n",
        "    * Retorne o número inteiro criptografado."
      ]
    },
    {
      "cell_type": "code",
      "execution_count": null,
      "metadata": {
        "id": "-sZ4aSJ1-B4H"
      },
      "outputs": [],
      "source": [
        ""
      ]
    }
  ],
  "metadata": {
    "kernelspec": {
      "display_name": "Python 3",
      "language": "python",
      "name": "python3"
    },
    "language_info": {
      "codemirror_mode": {
        "name": "ipython",
        "version": 3
      },
      "file_extension": ".py",
      "mimetype": "text/x-python",
      "name": "python",
      "nbconvert_exporter": "python",
      "pygments_lexer": "ipython3",
      "version": "3.7.4"
    },
    "colab": {
      "name": "exercicios-python.ipynb",
      "provenance": []
    }
  },
  "nbformat": 4,
  "nbformat_minor": 0
}